{
 "cells": [
  {
   "cell_type": "code",
   "execution_count": 1,
   "id": "6f756d7c-fda1-4f36-b08d-7367c9be5877",
   "metadata": {},
   "outputs": [
    {
     "name": "stdout",
     "output_type": "stream",
     "text": [
      "All imports successful! ✅\n",
      "Device: cpu\n"
     ]
    }
   ],
   "source": [
    "# Cell 1: Imports\n",
    "import torch\n",
    "import torch_geometric as pyg\n",
    "from e3nn import o3\n",
    "import rdkit\n",
    "from rdkit import Chem\n",
    "from Bio.PDB import PDBParser\n",
    "import py3Dmol\n",
    "import numpy as np\n",
    "import matplotlib.pyplot as plt\n",
    "\n",
    "print(\"All imports successful! ✅\")\n",
    "print(f\"Device: {torch.device('cuda' if torch.cuda.is_available() else 'cpu')}\")"
   ]
  },
  {
   "cell_type": "code",
   "execution_count": 2,
   "id": "bfe6318a-33ba-4b99-b511-a5fc5cee6c84",
   "metadata": {},
   "outputs": [
    {
     "name": "stdout",
     "output_type": "stream",
     "text": [
      "[WinError 3] The system cannot find the path specified: 'C:\\\\Users\\\\HP/protein-drug-binding/data/raw'\n",
      "D:\\repo\\EquiBindNet\\EquiBindNet-\\protein-drug-binding\\notebooks\n"
     ]
    }
   ],
   "source": [
    "cd ~/protein-drug-binding/data/raw"
   ]
  },
  {
   "cell_type": "code",
   "execution_count": 3,
   "id": "aaa63b6b-bf39-4454-97fe-7c942b608399",
   "metadata": {},
   "outputs": [
    {
     "data": {
      "text/plain": [
       "<function dir>"
      ]
     },
     "execution_count": 3,
     "metadata": {},
     "output_type": "execute_result"
    }
   ],
   "source": [
    "dir"
   ]
  },
  {
   "cell_type": "code",
   "execution_count": 4,
   "id": "54a09e86-52ec-49b6-bb8d-23d4952f44b6",
   "metadata": {},
   "outputs": [
    {
     "name": "stdout",
     "output_type": "stream",
     "text": [
      " Volume in drive D is New Volume\n",
      " Volume Serial Number is B0A5-A577\n",
      "\n",
      " Directory of D:\\repo\\EquiBindNet\\EquiBindNet-\\protein-drug-binding\\notebooks\n",
      "\n",
      "10/19/2025  11:46 PM    <DIR>          .\n",
      "10/19/2025  11:37 PM    <DIR>          ..\n",
      "10/19/2025  11:46 PM    <DIR>          .ipynb_checkpoints\n",
      "10/19/2025  11:46 PM                72 01_exploration.ipynb\n",
      "               1 File(s)             72 bytes\n",
      "               3 Dir(s)  79,352,647,680 bytes free\n"
     ]
    }
   ],
   "source": [
    "!dir"
   ]
  },
  {
   "cell_type": "code",
   "execution_count": 5,
   "id": "7a18e67d-3f28-4fb3-93d4-04a606cc317e",
   "metadata": {},
   "outputs": [
    {
     "name": "stderr",
     "output_type": "stream",
     "text": [
      "The system cannot find the path specified.\n"
     ]
    }
   ],
   "source": [
    "! cd ~/protein-drug-binding/data/raw\n"
   ]
  },
  {
   "cell_type": "code",
   "execution_count": null,
   "id": "13c9ce06-d530-44b2-bcc5-5f4447709487",
   "metadata": {},
   "outputs": [],
   "source": []
  }
 ],
 "metadata": {
  "kernelspec": {
   "display_name": "Python 3 (ipykernel)",
   "language": "python",
   "name": "python3"
  },
  "language_info": {
   "codemirror_mode": {
    "name": "ipython",
    "version": 3
   },
   "file_extension": ".py",
   "mimetype": "text/x-python",
   "name": "python",
   "nbconvert_exporter": "python",
   "pygments_lexer": "ipython3",
   "version": "3.11.4"
  }
 },
 "nbformat": 4,
 "nbformat_minor": 5
}
